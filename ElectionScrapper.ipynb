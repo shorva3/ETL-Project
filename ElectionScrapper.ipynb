{
 "cells": [
  {
   "cell_type": "code",
   "execution_count": 1,
   "metadata": {},
   "outputs": [],
   "source": [
    "import pandas as pd\n",
    "from splinter import Browser\n",
    "from bs4 import BeautifulSoup\n",
    "import time\n",
    "import os"
   ]
  },
  {
   "cell_type": "markdown",
   "metadata": {},
   "source": [
    "## Extraction"
   ]
  },
  {
   "cell_type": "code",
   "execution_count": 18,
   "metadata": {},
   "outputs": [],
   "source": [
    "executable_path = {'executable_path': 'chromedriver.exe'}\n",
    "browser = Browser('chrome', **executable_path, headless=False)\n",
    "\n",
    "# from splinter import browser\n",
    "browser.visit(\"https://www.fec.gov/data/receipts/individual-contributions/?data_type=processed&committee_id=C00334037&committee_id=C00693234&committee_id=C00696948&committee_id=C00697441&committee_id=C00699090&two_year_transaction_period=2020&min_date=01%2F01%2F2019&max_date=12%2F31%2F2020\")\n",
    "\n",
    "url = browser.url\n",
    "\n",
    "browser.visit(url)\n",
    "\n",
    "time.sleep(5)\n",
    "\n",
    "button = browser.find_by_css(\"#main > section > div.data-container > div.data-container__widgets.js-data-widgets > div.data-container__head > div > div.data-container__export > button\")\n",
    "\n",
    "# button = browser.find_by_css(\"#main > section > div.data-container > div.data-container__widgets.js-data-widgets > div.data-container__head > div > div.data-container__export > button\")\n",
    "\n",
    "button.click()\n",
    "\n",
    "time.sleep(15)\n",
    "\n",
    "browser.find_by_css(\"body > div.downloads > div > ul > li > div > a\").click()\n",
    "\n",
    "time.sleep(25)\n",
    "\n",
    "browser.quit()"
   ]
  },
  {
   "cell_type": "code",
   "execution_count": 23,
   "metadata": {},
   "outputs": [],
   "source": [
    "executable_path = {'executable_path': 'chromedriver.exe'}\n",
    "browser = Browser('chrome', **executable_path, headless=False)\n",
    "\n",
    "browser.visit('https://www.fec.gov/data/receipts/?data_type=processed&committee_id=C00659938&committee_id=C00694455&committee_id=C00695510&two_year_transaction_period=2020&min_date=01%2F01%2F2019&max_date=12%2F31%2F2020')\n",
    "\n",
    "url = browser.url\n",
    "\n",
    "browser.visit(url)\n",
    "\n",
    "time.sleep(5)\n",
    "\n",
    "button = browser.find_by_css(\"#main > section > div.data-container > div.data-container__widgets.js-data-widgets > div.data-container__head > div > div.data-container__export > button\")\n",
    "\n",
    "# button = browser.find_by_css(\"#main > section > div.data-container > div.data-container__widgets.js-data-widgets > div.data-container__head > div > div.data-container__export > button\")\n",
    "\n",
    "button.click()\n",
    "\n",
    "time.sleep(15)\n",
    "\n",
    "browser.find_by_css(\"body > div.downloads > div > ul > li > div > a\").click()\n",
    "\n",
    "time.sleep(25)\n",
    "\n",
    "browser.quit()"
   ]
  },
  {
   "cell_type": "code",
   "execution_count": 21,
   "metadata": {},
   "outputs": [],
   "source": [
    "executable_path = {'executable_path': 'chromedriver.exe'}\n",
    "browser = Browser('chrome', **executable_path, headless=False)\n",
    "\n",
    "browser.visit('https://www.fec.gov/data/receipts/individual-contributions/?committee_id=C00580100&two_year_transaction_period=2020&min_date=01%2F01%2F2019&max_date=12%2F31%2F2019')\n",
    "\n",
    "url = browser.url\n",
    "\n",
    "browser.visit(url)\n",
    "\n",
    "time.sleep(5)\n",
    "\n",
    "button = browser.find_by_css(\"#main > section > div.data-container > div.data-container__widgets.js-data-widgets > div.data-container__head > div > div.data-container__export > button\")\n",
    "\n",
    "# button = browser.find_by_css(\"#main > section > div.data-container > div.data-container__widgets.js-data-widgets > div.data-container__head > div > div.data-container__export > button\")\n",
    "\n",
    "button.click()\n",
    "\n",
    "time.sleep(15)\n",
    "\n",
    "browser.find_by_css(\"body > div.downloads > div > ul > li > div > a\").click()\n",
    "\n",
    "time.sleep(35)\n",
    "\n",
    "browser.quit()"
   ]
  },
  {
   "cell_type": "code",
   "execution_count": 24,
   "metadata": {},
   "outputs": [],
   "source": [
    "files = os.listdir(\"C:/Users/aotal/Downloads\")\n",
    "path = \"C:/Users/aotal/Downloads/\""
   ]
  },
  {
   "cell_type": "markdown",
   "metadata": {},
   "source": [
    "## Transform"
   ]
  },
  {
   "cell_type": "code",
   "execution_count": 25,
   "metadata": {},
   "outputs": [
    {
     "name": "stderr",
     "output_type": "stream",
     "text": [
      "C:\\Users\\aotal\\Anaconda3\\lib\\site-packages\\IPython\\core\\interactiveshell.py:3049: DtypeWarning: Columns (20,32) have mixed types. Specify dtype option on import or set low_memory=False.\n",
      "  interactivity=interactivity, compiler=compiler, result=result)\n",
      "C:\\Users\\aotal\\Anaconda3\\lib\\site-packages\\IPython\\core\\interactiveshell.py:3049: DtypeWarning: Columns (5,11,28,29,56) have mixed types. Specify dtype option on import or set low_memory=False.\n",
      "  interactivity=interactivity, compiler=compiler, result=result)\n",
      "C:\\Users\\aotal\\Anaconda3\\lib\\site-packages\\IPython\\core\\interactiveshell.py:3049: DtypeWarning: Columns (25,37,38,39,40,41,44,45,46,47) have mixed types. Specify dtype option on import or set low_memory=False.\n",
      "  interactivity=interactivity, compiler=compiler, result=result)\n",
      "C:\\Users\\aotal\\Anaconda3\\lib\\site-packages\\IPython\\core\\interactiveshell.py:3049: DtypeWarning: Columns (37,38,39,40,41,44,45,46,47) have mixed types. Specify dtype option on import or set low_memory=False.\n",
      "  interactivity=interactivity, compiler=compiler, result=result)\n"
     ]
    },
    {
     "data": {
      "text/html": [
       "<div>\n",
       "<style scoped>\n",
       "    .dataframe tbody tr th:only-of-type {\n",
       "        vertical-align: middle;\n",
       "    }\n",
       "\n",
       "    .dataframe tbody tr th {\n",
       "        vertical-align: top;\n",
       "    }\n",
       "\n",
       "    .dataframe thead th {\n",
       "        text-align: right;\n",
       "    }\n",
       "</style>\n",
       "<table border=\"1\" class=\"dataframe\">\n",
       "  <thead>\n",
       "    <tr style=\"text-align: right;\">\n",
       "      <th></th>\n",
       "      <th>Candidate</th>\n",
       "      <th>Zip Code</th>\n",
       "      <th>Donation</th>\n",
       "    </tr>\n",
       "  </thead>\n",
       "  <tbody>\n",
       "    <tr>\n",
       "      <th>0</th>\n",
       "      <td>BETO FOR AMERICA</td>\n",
       "      <td>98115</td>\n",
       "      <td>200.0</td>\n",
       "    </tr>\n",
       "    <tr>\n",
       "      <th>1</th>\n",
       "      <td>BETO FOR AMERICA</td>\n",
       "      <td>76109</td>\n",
       "      <td>100.0</td>\n",
       "    </tr>\n",
       "    <tr>\n",
       "      <th>2</th>\n",
       "      <td>BETO FOR AMERICA</td>\n",
       "      <td>12144</td>\n",
       "      <td>50.0</td>\n",
       "    </tr>\n",
       "    <tr>\n",
       "      <th>3</th>\n",
       "      <td>BETO FOR AMERICA</td>\n",
       "      <td>75080</td>\n",
       "      <td>50.0</td>\n",
       "    </tr>\n",
       "    <tr>\n",
       "      <th>4</th>\n",
       "      <td>BETO FOR AMERICA</td>\n",
       "      <td>78701</td>\n",
       "      <td>500.0</td>\n",
       "    </tr>\n",
       "  </tbody>\n",
       "</table>\n",
       "</div>"
      ],
      "text/plain": [
       "          Candidate Zip Code  Donation\n",
       "0  BETO FOR AMERICA    98115     200.0\n",
       "1  BETO FOR AMERICA    76109     100.0\n",
       "2  BETO FOR AMERICA    12144      50.0\n",
       "3  BETO FOR AMERICA    75080      50.0\n",
       "4  BETO FOR AMERICA    78701     500.0"
      ]
     },
     "execution_count": 25,
     "metadata": {},
     "output_type": "execute_result"
    }
   ],
   "source": [
    "file_locations = []\n",
    "for f in files:\n",
    "    if 'schedule' in f:\n",
    "        newfile = path + f\n",
    "        file_locations.append(newfile)\n",
    "\n",
    "frames = {}\n",
    "for file in file_locations:\n",
    "    name = file[-23:]\n",
    "    frames[name] = pd.read_csv(file)\n",
    "\n",
    "file_locations\n",
    "\n",
    "new = file_locations[0]\n",
    "new2 = file_locations[1]\n",
    "new3 = file_locations[2]\n",
    "\n",
    "df1 = pd.read_csv(new, converters={'contributor_zip': str})\n",
    "df2 = pd.read_csv(new2, converters={'contributor_zip': str})\n",
    "df3 = pd.read_csv(new3, converters={'contributor_zip': str})\n",
    "\n",
    "frames = [df1, df2, df3]\n",
    "\n",
    "df = pd.concat(frames)\n",
    "\n",
    "df = df[['committee_name','contributor_zip','contribution_receipt_amount']]\n",
    "df['contributor_zip'] = df['contributor_zip'].astype(str)\n",
    "df['new_zip'] = df['contributor_zip'].str[0:5]\n",
    "df = df[['committee_name', 'new_zip', 'contribution_receipt_amount']]\n",
    "df = df.rename(columns = {'new_zip':'zip code'})\n",
    "df = df.dropna()\n",
    "df = df[df['zip code'] != '0.0']\n",
    "\n",
    "df.columns = ['Candidate', 'Zip Code', 'Donation']\n",
    "df.head()"
   ]
  },
  {
   "cell_type": "code",
   "execution_count": 26,
   "metadata": {},
   "outputs": [],
   "source": [
    "df.to_csv('Candidate_Donations.csv')"
   ]
  },
  {
   "cell_type": "code",
   "execution_count": 27,
   "metadata": {},
   "outputs": [],
   "source": [
    "for f in file_locations:\n",
    "    os.remove(f)"
   ]
  },
  {
   "cell_type": "markdown",
   "metadata": {},
   "source": [
    "## Load"
   ]
  },
  {
   "cell_type": "code",
   "execution_count": null,
   "metadata": {},
   "outputs": [],
   "source": [
    "rds_connection_string = f\"postgres:PASSWORD@localhost:5432/campaign_db\"\n",
    "engine = create_engine(f'postgresql://{rds_connection_string}')"
   ]
  },
  {
   "cell_type": "code",
   "execution_count": null,
   "metadata": {},
   "outputs": [],
   "source": [
    "# Confirm tables\n",
    "engine.table_names()"
   ]
  },
  {
   "cell_type": "code",
   "execution_count": null,
   "metadata": {},
   "outputs": [],
   "source": [
    "df.to_sql(name='clean_zip_df', con=engine, if_exists='append', index=False)"
   ]
  },
  {
   "cell_type": "code",
   "execution_count": null,
   "metadata": {},
   "outputs": [],
   "source": [
    "pd.read_sql_query('select * from df', con=engine).head()"
   ]
  }
 ],
 "metadata": {
  "kernelspec": {
   "display_name": "Python 3",
   "language": "python",
   "name": "python3"
  },
  "language_info": {
   "codemirror_mode": {
    "name": "ipython",
    "version": 3
   },
   "file_extension": ".py",
   "mimetype": "text/x-python",
   "name": "python",
   "nbconvert_exporter": "python",
   "pygments_lexer": "ipython3",
   "version": "3.7.1"
  }
 },
 "nbformat": 4,
 "nbformat_minor": 2
}
